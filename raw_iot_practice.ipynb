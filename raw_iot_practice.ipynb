{
 "cells": [
  {
   "cell_type": "code",
   "execution_count": 3,
   "id": "90ff8f84",
   "metadata": {},
   "outputs": [
    {
     "name": "stdout",
     "output_type": "stream",
     "text": [
      "                    timestamp device_id    data_type data_value\n",
      "0  2025-03-04 20:41:46.466097  Device_4       Energy     22.5°C\n",
      "1  2025-03-04 21:41:46.466095  Device_5     Humidity        45%\n",
      "2  2025-03-04 22:41:46.466093  Device_3  Temperature   18.3 kWh\n",
      "3  2025-03-04 23:41:46.466090  Device_5     Humidity        NaN\n",
      "4  2025-03-05 00:41:46.466089  Device_5     Humidity     23.1°C\n",
      "\n",
      "Columns: ['timestamp', 'device_id', 'data_type', 'data_value']\n",
      "\n",
      "Missing values:\n",
      " timestamp     0\n",
      "device_id     0\n",
      "data_type     0\n",
      "data_value    2\n",
      "dtype: int64\n"
     ]
    }
   ],
   "source": [
    "import pandas as pd\n",
    "\n",
    "df = pd.read_csv(\"raw_iot_data.csv\")\n",
    "print(df.head())\n",
    "print(\"\\nColumns:\", df.columns.tolist())\n",
    "print(\"\\nMissing values:\\n\", df.isnull().sum())\n",
    "\n"
   ]
  },
  {
   "cell_type": "code",
   "execution_count": null,
   "id": "7d03203e",
   "metadata": {},
   "outputs": [
    {
     "name": "stdout",
     "output_type": "stream",
     "text": [
      "📋 IoT Device Data:\n",
      "\n",
      "timestamp | device_id | data_type | data_value\n",
      "--------------------------------------------------\n",
      "2025-03-04 20:41:46.466097 | Device_4 | Energy | 22.5°C\n",
      "2025-03-04 21:41:46.466095 | Device_5 | Humidity | 45%\n",
      "2025-03-04 22:41:46.466093 | Device_3 | Temperature | 18.3 kWh\n",
      "2025-03-04 23:41:46.466090 | Device_5 | Humidity | nan\n",
      "2025-03-05 00:41:46.466089 | Device_5 | Humidity | 23.1°C\n",
      "2025-03-05 01:41:46.466087 | Device_2 | Humidity | 50%\n",
      "2025-03-05 02:41:46.466086 | Device_3 | Humidity | 19.0 kWh\n",
      "2025-03-05 03:41:46.466084 | Device_3 | Temperature | 24.0°C\n",
      "2025-03-05 04:41:46.466069 | Device_3 | Temperature | nan\n",
      "2025-03-05 05:41:46.466061 | Device_5 | Humidity | 47%\n"
     ]
    }
   ],
   "source": [
    "import pandas as pd  \n",
    "df = pd.read_csv(\"raw_iot_data.csv\")\n",
    "\n",
    "print(\"📋 IoT Device Data:\\n\")\n",
    "print(\"timestamp | device_id | data_type | data_value\")\n",
    "print(\"-\" * 50)\n",
    "\n",
    "for index, row in df.iterrows():\n",
    "    timestamp = row['timestamp']\n",
    "    device_id = row['device_id']\n",
    "    data_type = row['data_type']\n",
    "    data_value = row['data_value']\n",
    "    \n",
    "    print(f\"{timestamp} | {device_id} | {data_type} | {data_value}\")"
   ]
  },
  {
   "cell_type": "code",
   "execution_count": 12,
   "id": "e74919b1",
   "metadata": {},
   "outputs": [
    {
     "name": "stdout",
     "output_type": "stream",
     "text": [
      "\n",
      "🔍 Missing values per column:\n",
      "timestamp     0\n",
      "device_id     0\n",
      "data_type     0\n",
      "data_value    2\n",
      "dtype: int64\n",
      "\n",
      "📊 Hourly Average Readings by Data Type:\n",
      "                 hour    data_type  numeric_value\n",
      "0 2025-03-04 20:00:00       Energy           22.5\n",
      "1 2025-03-04 21:00:00     Humidity           45.0\n",
      "2 2025-03-04 22:00:00  Temperature           18.3\n",
      "3 2025-03-05 00:00:00     Humidity           23.1\n",
      "4 2025-03-05 01:00:00     Humidity           50.0\n",
      "5 2025-03-05 02:00:00     Humidity           19.0\n",
      "6 2025-03-05 03:00:00  Temperature           24.0\n",
      "7 2025-03-05 05:00:00     Humidity           47.0\n",
      "\n",
      "🧯 Duplicate rows found: 0\n",
      "\n",
      " Potential Outliers:\n"
     ]
    },
    {
     "name": "stderr",
     "output_type": "stream",
     "text": [
      "/var/folders/w5/_mgmvjq55wx3f5cd44_bmjs80000gn/T/ipykernel_21520/196165369.py:9: FutureWarning: A value is trying to be set on a copy of a DataFrame or Series through chained assignment using an inplace method.\n",
      "The behavior will change in pandas 3.0. This inplace method will never work because the intermediate object on which we are setting values always behaves as a copy.\n",
      "\n",
      "For example, when doing 'df[col].method(value, inplace=True)', try using 'df.method({col: value}, inplace=True)' or df[col] = df[col].method(value) instead, to perform the operation inplace on the original object.\n",
      "\n",
      "\n",
      "  df['data_value'].replace('', pd.NA, inplace=True)\n",
      "/var/folders/w5/_mgmvjq55wx3f5cd44_bmjs80000gn/T/ipykernel_21520/196165369.py:20: FutureWarning: 'H' is deprecated and will be removed in a future version, please use 'h' instead.\n",
      "  df['hour'] = df['timestamp'].dt.floor('H')\n"
     ]
    }
   ],
   "source": [
    "import pandas as pd\n",
    "import re\n",
    "\n",
    "df = pd.read_csv(\"raw_iot_data.csv\")\n",
    "\n",
    "print(\"\\n🔍 Missing values per column:\")\n",
    "print(df.isnull().sum())\n",
    "\n",
    "df['data_value'].replace('', pd.NA, inplace=True)\n",
    "\n",
    "df = df.dropna(subset=['data_value'])\n",
    "\n",
    "def extract_number(value):\n",
    "    match = re.search(r\"[-+]?\\d*\\.\\d+|\\d+\", str(value))  # match float or int\n",
    "    return float(match.group()) if match else None\n",
    "\n",
    "df['numeric_value'] = df['data_value'].apply(extract_number)\n",
    "df['timestamp'] = pd.to_datetime(df['timestamp'])\n",
    "\n",
    "df['hour'] = df['timestamp'].dt.floor('H')\n",
    "grouped = df.groupby(['hour', 'data_type'])['numeric_value'].mean().reset_index()\n",
    "\n",
    "print(\"\\n📊 Hourly Average Readings by Data Type:\")\n",
    "print(grouped)\n",
    "\n",
    "print(\"\\n🧯 Duplicate rows found:\", df.duplicated().sum())\n",
    "\n",
    "df = df.drop_duplicates()\n",
    "\n",
    "def detect_outliers(series):\n",
    "    q1 = series.quantile(0.25)\n",
    "    q3 = series.quantile(0.75)\n",
    "    iqr = q3 - q1\n",
    "    lower = q1 - 1.5 * iqr\n",
    "    upper = q3 + 1.5 * iqr\n",
    "    return series[(series < lower) | (series > upper)]\n",
    "\n",
    "print(\"\\n Potential Outliers:\")\n",
    "for dtype in df['data_type'].unique():\n",
    "    outliers = detect_outliers(df[df['data_type'] == dtype]['numeric_value'])\n",
    "    if not outliers.empty:\n",
    "        print(f\"\\nOutliers in '{dtype}':\")\n",
    "        print(outliers)\n",
    "\n"
   ]
  }
 ],
 "metadata": {
  "kernelspec": {
   "display_name": "venv",
   "language": "python",
   "name": "python3"
  },
  "language_info": {
   "codemirror_mode": {
    "name": "ipython",
    "version": 3
   },
   "file_extension": ".py",
   "mimetype": "text/x-python",
   "name": "python",
   "nbconvert_exporter": "python",
   "pygments_lexer": "ipython3",
   "version": "3.13.3"
  }
 },
 "nbformat": 4,
 "nbformat_minor": 5
}
